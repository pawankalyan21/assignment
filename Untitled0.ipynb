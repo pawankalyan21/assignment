{
  "nbformat": 4,
  "nbformat_minor": 0,
  "metadata": {
    "colab": {
      "provenance": [],
      "authorship_tag": "ABX9TyOCRyjUWnIZNdCSXUdouVFU",
      "include_colab_link": true
    },
    "kernelspec": {
      "name": "python3",
      "display_name": "Python 3"
    },
    "language_info": {
      "name": "python"
    }
  },
  "cells": [
    {
      "cell_type": "markdown",
      "metadata": {
        "id": "view-in-github",
        "colab_type": "text"
      },
      "source": [
        "<a href=\"https://colab.research.google.com/github/pawankalyan21/assignment/blob/main/Untitled0.ipynb\" target=\"_parent\"><img src=\"https://colab.research.google.com/assets/colab-badge.svg\" alt=\"Open In Colab\"/></a>"
      ]
    },
    {
      "cell_type": "code",
      "execution_count": 1,
      "metadata": {
        "colab": {
          "base_uri": "https://localhost:8080/"
        },
        "id": "btf9kmNiGxV7",
        "outputId": "41a0fe84-dedc-4f1e-845d-be55d4fb3ad4"
      },
      "outputs": [
        {
          "output_type": "stream",
          "name": "stdout",
          "text": [
            "Original Tensor:\n",
            " tf.Tensor(\n",
            "[[0.97659695 0.43289685 0.87277853 0.41805565 0.6842798  0.9810889 ]\n",
            " [0.92332816 0.94328237 0.7246289  0.15821087 0.58291984 0.0504266 ]\n",
            " [0.48946702 0.5619197  0.2502525  0.6814364  0.23782706 0.61972785]\n",
            " [0.979944   0.59580505 0.11237943 0.31971908 0.48772264 0.07857275]], shape=(4, 6), dtype=float32)\n",
            "\n",
            "Original Tensor Rank: 2\n",
            "Original Tensor Shape: [4 6]\n",
            "\n",
            "Reshaped Tensor (2, 3, 4):\n",
            " tf.Tensor(\n",
            "[[[0.97659695 0.43289685 0.87277853 0.41805565]\n",
            "  [0.6842798  0.9810889  0.92332816 0.94328237]\n",
            "  [0.7246289  0.15821087 0.58291984 0.0504266 ]]\n",
            "\n",
            " [[0.48946702 0.5619197  0.2502525  0.6814364 ]\n",
            "  [0.23782706 0.61972785 0.979944   0.59580505]\n",
            "  [0.11237943 0.31971908 0.48772264 0.07857275]]], shape=(2, 3, 4), dtype=float32)\n",
            "\n",
            "Transposed Tensor (3, 2, 4):\n",
            " tf.Tensor(\n",
            "[[[0.97659695 0.43289685 0.87277853 0.41805565]\n",
            "  [0.48946702 0.5619197  0.2502525  0.6814364 ]]\n",
            "\n",
            " [[0.6842798  0.9810889  0.92332816 0.94328237]\n",
            "  [0.23782706 0.61972785 0.979944   0.59580505]]\n",
            "\n",
            " [[0.7246289  0.15821087 0.58291984 0.0504266 ]\n",
            "  [0.11237943 0.31971908 0.48772264 0.07857275]]], shape=(3, 2, 4), dtype=float32)\n",
            "\n",
            "Result After Broadcasting and Adding (3, 2, 4):\n",
            " tf.Tensor(\n",
            "[[[1.976597  2.4328969 3.8727784 4.4180555]\n",
            "  [1.489467  2.5619197 3.2502525 4.6814365]]\n",
            "\n",
            " [[1.6842798 2.9810889 3.9233282 4.943282 ]\n",
            "  [1.2378271 2.6197278 3.979944  4.595805 ]]\n",
            "\n",
            " [[1.7246289 2.1582108 3.5829198 4.0504265]\n",
            "  [1.1123794 2.319719  3.4877226 4.0785728]]], shape=(3, 2, 4), dtype=float32)\n",
            "\n",
            "Broadcasting Explanation:\n",
            "Broadcasting allows tensors of different shapes to be used together in arithmetic operations.\n",
            "TensorFlow automatically expands the smaller tensor dimensions to match the larger one,\n",
            "without copying data unnecessarily. Here, (1, 1, 4) was broadcast to (3, 2, 4).\n"
          ]
        }
      ],
      "source": [
        "import tensorflow as tf\n",
        "\n",
        "# 1. Create a random tensor of shape (4, 6)\n",
        "tensor = tf.random.uniform(shape=(4, 6))\n",
        "print(\"Original Tensor:\\n\", tensor)\n",
        "\n",
        "# 2. Find its rank and shape\n",
        "rank = tf.rank(tensor)\n",
        "shape = tf.shape(tensor)\n",
        "print(\"\\nOriginal Tensor Rank:\", rank.numpy())\n",
        "print(\"Original Tensor Shape:\", shape.numpy())\n",
        "\n",
        "# 3. Reshape it into (2, 3, 4)\n",
        "reshaped_tensor = tf.reshape(tensor, shape=(2, 3, 4))\n",
        "print(\"\\nReshaped Tensor (2, 3, 4):\\n\", reshaped_tensor)\n",
        "\n",
        "# Transpose it to shape (3, 2, 4)\n",
        "transposed_tensor = tf.transpose(reshaped_tensor, perm=[1, 0, 2])\n",
        "print(\"\\nTransposed Tensor (3, 2, 4):\\n\", transposed_tensor)\n",
        "\n",
        "# 4. Broadcast a smaller tensor (1, 4) to match the last 2 dims and add it\n",
        "# First, create the smaller tensor\n",
        "small_tensor = tf.constant([[1.0, 2.0, 3.0, 4.0]])  # Shape: (1, 4)\n",
        "\n",
        "# Broadcast and add to transposed tensor (shape: 3, 2, 4)\n",
        "# We need to match (3, 2, 4) with (1, 4), so we reshape small_tensor to (1, 1, 4)\n",
        "broadcast_tensor = tf.reshape(small_tensor, (1, 1, 4))\n",
        "result_tensor = transposed_tensor + broadcast_tensor\n",
        "print(\"\\nResult After Broadcasting and Adding (3, 2, 4):\\n\", result_tensor)\n",
        "\n",
        "# 5. Broadcasting Explanation\n",
        "print(\"\\nBroadcasting Explanation:\")\n",
        "print(\"Broadcasting allows tensors of different shapes to be used together in arithmetic operations.\")\n",
        "print(\"TensorFlow automatically expands the smaller tensor dimensions to match the larger one,\")\n",
        "print(\"without copying data unnecessarily. Here, (1, 1, 4) was broadcast to (3, 2, 4).\")\n"
      ]
    },
    {
      "cell_type": "code",
      "source": [
        "import tensorflow as tf\n",
        "import numpy as np\n",
        "import matplotlib.pyplot as plt\n",
        "\n",
        "# 1. Define true labels (one-hot encoded) and predictions\n",
        "y_true = tf.constant([[0., 1., 0.]], dtype=tf.float32)\n",
        "\n",
        "# Initial prediction (pretty close to y_true)\n",
        "y_pred1 = tf.constant([[0.1, 0.8, 0.1]], dtype=tf.float32)\n",
        "\n",
        "# Slightly worse prediction\n",
        "y_pred2 = tf.constant([[0.3, 0.4, 0.3]], dtype=tf.float32)\n",
        "\n",
        "# 2. Compute MSE and CCE for both predictions\n",
        "mse1 = tf.keras.losses.MeanSquaredError()(y_true, y_pred1).numpy()\n",
        "cce1 = tf.keras.losses.CategoricalCrossentropy()(y_true, y_pred1).numpy()\n",
        "\n",
        "mse2 = tf.keras.losses.MeanSquaredError()(y_true, y_pred2).numpy()\n",
        "cce2 = tf.keras.losses.CategoricalCrossentropy()(y_true, y_pred2).numpy()\n",
        "\n",
        "# Print loss values\n",
        "print(\"Prediction 1:\")\n",
        "print(\"MSE:\", mse1)\n",
        "print(\"Categorical Cross-Entropy:\", cce1)\n",
        "\n",
        "print(\"\\nPrediction 2:\")\n",
        "print(\"MSE:\", mse2)\n",
        "print(\"Categorical Cross-Entropy:\", cce2)\n",
        "\n",
        "# 4. Plot losses\n",
        "labels = ['MSE', 'CCE']\n",
        "loss1 = [mse1, cce1]\n",
        "loss2 = [mse2, cce2]\n",
        "\n",
        "x = np.arange(len(labels))  # label locations\n",
        "width = 0.35  # bar width\n",
        "\n",
        "fig, ax = plt.subplots()\n",
        "bars1 = ax.bar(x - width/2, loss1, width, label='Pred 1 (better)')\n",
        "bars2 = ax.bar(x + width/2, loss2, width, label='Pred 2 (worse)')\n",
        "\n",
        "# Add labels\n",
        "ax.set_ylabel('Loss Value')\n",
        "ax.set_title('Loss Comparison: MSE vs Categorical Cross-Entropy')\n",
        "ax.set_xticks(x)\n",
        "ax.set_xticklabels(labels)\n",
        "ax.legend()\n",
        "\n",
        "# Add values on top\n",
        "for bar in bars1 + bars2:\n",
        "    height = bar.get_height()\n",
        "    ax.annotate(f'{height:.3f}',\n",
        "                xy=(bar.get_x() + bar.get_width() / 2, height),\n",
        "                xytext=(0, 3),  # Offset text\n",
        "                textcoords=\"offset points\",\n",
        "                ha='center', va='bottom')\n",
        "\n",
        "plt.tight_layout()\n",
        "plt.show()\n"
      ],
      "metadata": {
        "colab": {
          "base_uri": "https://localhost:8080/",
          "height": 609
        },
        "id": "84GEnwGeHhid",
        "outputId": "650d0ab1-e5a3-4062-a286-51b39684cda8"
      },
      "execution_count": 2,
      "outputs": [
        {
          "output_type": "stream",
          "name": "stdout",
          "text": [
            "Prediction 1:\n",
            "MSE: 0.02\n",
            "Categorical Cross-Entropy: 0.22314353\n",
            "\n",
            "Prediction 2:\n",
            "MSE: 0.18\n",
            "Categorical Cross-Entropy: 0.9162907\n"
          ]
        },
        {
          "output_type": "display_data",
          "data": {
            "text/plain": [
              "<Figure size 640x480 with 1 Axes>"
            ],
            "image/png": "[encoded data removed]"
          },
          "metadata": {}
        }
      ]
    },
    {
      "cell_type": "code",
      "source": [
        "import tensorflow as tf\n",
        "from tensorflow.keras import layers, models\n",
        "import datetime\n",
        "\n",
        "# 1. Load and preprocess MNIST dataset\n",
        "mnist = tf.keras.datasets.mnist\n",
        "(x_train, y_train), (x_test, y_test) = mnist.load_data()\n",
        "\n",
        "# Normalize pixel values (0-255) to (0-1)\n",
        "x_train = x_train / 255.0\n",
        "x_test = x_test / 255.0\n",
        "\n",
        "# 2. Define a simple neural network model\n",
        "model = models.Sequential([\n",
        "    layers.Flatten(input_shape=(28, 28)),\n",
        "    layers.Dense(128, activation='relu'),\n",
        "    layers.Dropout(0.2),\n",
        "    layers.Dense(10, activation='softmax')\n",
        "])\n",
        "\n",
        "# Compile the model\n",
        "model.compile(optimizer='adam',\n",
        "              loss='sparse_categorical_crossentropy',\n",
        "              metrics=['accuracy'])\n",
        "\n",
        "# 3. Enable TensorBoard logging\n",
        "log_dir = \"logs/fit/\" + datetime.datetime.now().strftime(\"%Y%m%d-%H%M%S\")\n",
        "tensorboard_callback = tf.keras.callbacks.TensorBoard(log_dir=log_dir, histogram_freq=1)\n",
        "\n",
        "# Train the model for 5 epochs with validation\n",
        "model.fit(x_train, y_train,\n",
        "          epochs=5,\n",
        "          validation_data=(x_test, y_test),\n",
        "          callbacks=[tensorboard_callback])\n"
      ],
      "metadata": {
        "colab": {
          "base_uri": "https://localhost:8080/"
        },
        "id": "qNKIQBuNHxux",
        "outputId": "e04ce360-9a8b-4cc4-ad16-27c5c069ca2c"
      },
      "execution_count": 3,
      "outputs": [
        {
          "output_type": "stream",
          "name": "stdout",
          "text": [
            "Downloading data from https://storage.googleapis.com/tensorflow/tf-keras-datasets/mnist.npz\n",
            "\u001b[1m11490434/11490434\u001b[0m \u001b[32m━━━━━━━━━━━━━━━━━━━━\u001b[0m\u001b[37m\u001b[0m \u001b[1m0s\u001b[0m 0us/step\n"
          ]
        },
        {
          "output_type": "stream",
          "name": "stderr",
          "text": [
            "/usr/local/lib/python3.11/dist-packages/keras/src/layers/reshaping/flatten.py:37: UserWarning: Do not pass an `input_shape`/`input_dim` argument to a layer. When using Sequential models, prefer using an `Input(shape)` object as the first layer in the model instead.\n",
            "  super().__init__(**kwargs)\n"
          ]
        },
        {
          "output_type": "stream",
          "name": "stdout",
          "text": [
            "Epoch 1/5\n",
            "\u001b[1m1875/1875\u001b[0m \u001b[32m━━━━━━━━━━━━━━━━━━━━\u001b[0m\u001b[37m\u001b[0m \u001b[1m10s\u001b[0m 5ms/step - accuracy: 0.8570 - loss: 0.4834 - val_accuracy: 0.9567 - val_loss: 0.1435\n",
            "Epoch 2/5\n",
            "\u001b[1m1875/1875\u001b[0m \u001b[32m━━━━━━━━━━━━━━━━━━━━\u001b[0m\u001b[37m\u001b[0m \u001b[1m7s\u001b[0m 4ms/step - accuracy: 0.9544 - loss: 0.1568 - val_accuracy: 0.9694 - val_loss: 0.0977\n",
            "Epoch 3/5\n",
            "\u001b[1m1875/1875\u001b[0m \u001b[32m━━━━━━━━━━━━━━━━━━━━\u001b[0m\u001b[37m\u001b[0m \u001b[1m12s\u001b[0m 5ms/step - accuracy: 0.9663 - loss: 0.1116 - val_accuracy: 0.9734 - val_loss: 0.0889\n",
            "Epoch 4/5\n",
            "\u001b[1m1875/1875\u001b[0m \u001b[32m━━━━━━━━━━━━━━━━━━━━\u001b[0m\u001b[37m\u001b[0m \u001b[1m11s\u001b[0m 5ms/step - accuracy: 0.9717 - loss: 0.0913 - val_accuracy: 0.9767 - val_loss: 0.0749\n",
            "Epoch 5/5\n",
            "\u001b[1m1875/1875\u001b[0m \u001b[32m━━━━━━━━━━━━━━━━━━━━\u001b[0m\u001b[37m\u001b[0m \u001b[1m9s\u001b[0m 5ms/step - accuracy: 0.9764 - loss: 0.0757 - val_accuracy: 0.9773 - val_loss: 0.0748\n"
          ]
        },
        {
          "output_type": "execute_result",
          "data": {
            "text/plain": [
              "<keras.src.callbacks.history.History at 0x7b39455543d0>"
            ]
          },
          "metadata": {},
          "execution_count": 3
        }
      ]
    }
  ]
}